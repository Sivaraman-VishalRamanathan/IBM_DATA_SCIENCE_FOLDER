{
 "cells": [
  {
   "cell_type": "markdown",
   "id": "bf91b956",
   "metadata": {},
   "source": []
  },
  {
   "cell_type": "markdown",
   "id": "fbfaf94d",
   "metadata": {},
   "source": [
    "# Data Science Tools and Ecosystem"
   ]
  },
  {
   "cell_type": "markdown",
   "id": "b71c9d01",
   "metadata": {},
   "source": [
    "# Data ScienceTools and Ecosystem"
   ]
  },
  {
   "cell_type": "markdown",
   "id": "c2d5eb43",
   "metadata": {},
   "source": [
    "# Basically In this notebook, Data Science Tools and Ecosystem are summarized."
   ]
  },
  {
   "cell_type": "markdown",
   "id": "f33cc029",
   "metadata": {},
   "source": [
    "# Basically In this notebook, Data Science Tools and Ecosystem are summarized."
   ]
  },
  {
   "cell_type": "markdown",
   "id": "6a95b121",
   "metadata": {},
   "source": [
    "**Objectives :**\n",
    "\n",
    "List popular languages for Data Science :\n",
    "\n",
    "* Python.\n",
    "* R.\n",
    "* Scala.\n",
    "* Julia.\n",
    "* Java.\n",
    "* C ++."
   ]
  },
  {
   "cell_type": "markdown",
   "id": "5383529f",
   "metadata": {},
   "source": [
    "**Objectives :**\n",
    "\n",
    "List popular languages for Data Science :\n",
    "\n",
    "* Python.\n",
    "* R.\n",
    "* Scala.\n",
    "* Julia.\n",
    "* Java.\n",
    "* C ++."
   ]
  },
  {
   "cell_type": "markdown",
   "id": "df9490da",
   "metadata": {},
   "source": [
    "# Some of the poplar languages that data scientists use are :\n",
    "\n",
    "1. Python.\n",
    "2. Java Script.\n",
    "3. C++.\n",
    "4. Java.\n",
    "5. SQL.\n",
    "6. Julia."
   ]
  },
  {
   "cell_type": "markdown",
   "id": "882605e3",
   "metadata": {},
   "source": [
    "# Some of the poplar languages that data scientists use are :\n",
    "\n",
    "1. Python.\n",
    "2. Java Script.\n",
    "3. C++.\n",
    "4. Java.\n",
    "5. SQL.\n",
    "6. Julia."
   ]
  },
  {
   "cell_type": "markdown",
   "id": "ec6161a3",
   "metadata": {},
   "source": [
    "# Some of the commonly used libraries used by Data Scientists include :\n",
    "\n",
    "1. NumPy.\n",
    "2. Pandas.\n",
    "3. Keras.\n",
    "4. PyTorch.\n",
    "5. TensorFLow.\n",
    "6. SciPy."
   ]
  },
  {
   "cell_type": "markdown",
   "id": "dda75fcf",
   "metadata": {},
   "source": [
    "# Some of the commonly used libraries used by Data Scientists include :\n",
    "\n",
    "1. NumPy.\n",
    "2. Pandas.\n",
    "3. Keras.\n",
    "4. PyTorch.\n",
    "5. TensorFLow.\n",
    "6. SciPy."
   ]
  },
  {
   "cell_type": "markdown",
   "id": "96e4ef17",
   "metadata": {},
   "source": [
    "| Data Science Tools |\n",
    "|--------------------|\n",
    "| 1. Apache Spark    |\n",
    "| 2. Weka            |\n",
    "| 3. Apache Hadoop   |"
   ]
  },
  {
   "cell_type": "markdown",
   "id": "4cd241ea",
   "metadata": {},
   "source": [
    "| Data Science Tools |\n",
    "|--------------------|\n",
    "| 1. Apache Spark    |\n",
    "| 2. Weka            |\n",
    "| 3. Apache Hadoop   |"
   ]
  },
  {
   "cell_type": "markdown",
   "id": "337cb8de",
   "metadata": {},
   "source": [
    "### Below are a few examples of evaluating arithmetic expressions in Python :\n",
    "\n",
    "\n",
    "#Lets see some of the basic arithmetic Expressions below which is easy to understand :\n",
    "\n",
    "x = 1\n",
    "y = 3\n",
    "  \n",
    "add = x + y\n",
    "sub = x - y\n",
    "pro = x * y\n",
    "div = x / y\n",
    "  \n",
    "print(add)\n",
    "print(sub)\n",
    "print(pro)\n",
    "print(div)"
   ]
  },
  {
   "cell_type": "markdown",
   "id": "e6be8890",
   "metadata": {},
   "source": [
    "### Below are a few examples of evaluating arithmetic expressions in Python :\n",
    "\n",
    "#Lets see some of the basic arithmetic Expressions below which is easy to understand :\n",
    "\n",
    "x = 1\n",
    "y = 3\n",
    "  \n",
    "add = x + y\n",
    "sub = x - y\n",
    "pro = x * y\n",
    "div = x / y\n",
    "  \n",
    "print(add)\n",
    "print(sub)\n",
    "print(pro)\n",
    "print(div)"
   ]
  },
  {
   "cell_type": "code",
   "execution_count": 1,
   "id": "3095a12d",
   "metadata": {},
   "outputs": [
    {
     "data": {
      "text/plain": [
       "17"
      ]
     },
     "execution_count": 1,
     "metadata": {},
     "output_type": "execute_result"
    }
   ],
   "source": [
    "#Comment Line : This a simple arithmetic expression to mutiply then add integers :\n",
    "\n",
    "#Expression is given below :\n",
    "\n",
    "(3*4)+5"
   ]
  },
  {
   "cell_type": "code",
   "execution_count": 2,
   "id": "4b71741a",
   "metadata": {},
   "outputs": [
    {
     "name": "stdout",
     "output_type": "stream",
     "text": [
      "Enter Number Of Minutes Which You Require To Convert To Hours: 200\n",
      "Hour : Minute :  3  :  20\n"
     ]
    }
   ],
   "source": [
    "#This will convert 200 minutes to hours by dividing by 60 :\n",
    "\n",
    "min=int(input(\"Enter Number Of Minutes Which You Require To Convert To Hours: \"))\n",
    "print(\"Hour : Minute : \", int(min/60),\" : \", min % 60)"
   ]
  },
  {
   "cell_type": "markdown",
   "id": "daa7d89a",
   "metadata": {},
   "source": [
    "## Author \n",
    "   \n",
    "   Sivaraman Vishal Ramanathan"
   ]
  },
  {
   "cell_type": "markdown",
   "id": "6774aaa6",
   "metadata": {},
   "source": [
    "## Author \n",
    "   \n",
    "   Sivaraman Vishal Ramanathan"
   ]
  },
  {
   "cell_type": "code",
   "execution_count": null,
   "id": "edf2be1b",
   "metadata": {},
   "outputs": [],
   "source": []
  }
 ],
 "metadata": {
  "kernelspec": {
   "display_name": "Python 3 (ipykernel)",
   "language": "python",
   "name": "python3"
  },
  "language_info": {
   "codemirror_mode": {
    "name": "ipython",
    "version": 3
   },
   "file_extension": ".py",
   "mimetype": "text/x-python",
   "name": "python",
   "nbconvert_exporter": "python",
   "pygments_lexer": "ipython3",
   "version": "3.10.9"
  }
 },
 "nbformat": 4,
 "nbformat_minor": 5
}
